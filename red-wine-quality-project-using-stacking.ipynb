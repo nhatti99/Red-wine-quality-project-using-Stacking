{
 "cells": [
  {
   "cell_type": "code",
   "execution_count": 1,
   "id": "77ca44ee",
   "metadata": {
    "_cell_guid": "b1076dfc-b9ad-4769-8c92-a6c4dae69d19",
    "_uuid": "8f2839f25d086af736a60e9eeb907d3b93b6e0e5",
    "execution": {
     "iopub.execute_input": "2022-09-16T18:37:04.626746Z",
     "iopub.status.busy": "2022-09-16T18:37:04.625530Z",
     "iopub.status.idle": "2022-09-16T18:37:04.652100Z",
     "shell.execute_reply": "2022-09-16T18:37:04.651167Z"
    },
    "papermill": {
     "duration": 0.040484,
     "end_time": "2022-09-16T18:37:04.655177",
     "exception": false,
     "start_time": "2022-09-16T18:37:04.614693",
     "status": "completed"
    },
    "tags": []
   },
   "outputs": [
    {
     "name": "stdout",
     "output_type": "stream",
     "text": [
      "/kaggle/input/red-wine-quality-cortez-et-al-2009/winequality-red.csv\n"
     ]
    }
   ],
   "source": [
    "# This Python 3 environment comes with many helpful analytics libraries installed\n",
    "# It is defined by the kaggle/python Docker image: https://github.com/kaggle/docker-python\n",
    "# For example, here's several helpful packages to load\n",
    "\n",
    "import numpy as np # linear algebra\n",
    "import pandas as pd # data processing, CSV file I/O (e.g. pd.read_csv)\n",
    "\n",
    "# Input data files are available in the read-only \"../input/\" directory\n",
    "# For example, running this (by clicking run or pressing Shift+Enter) will list all files under the input directory\n",
    "\n",
    "import os\n",
    "for dirname, _, filenames in os.walk('/kaggle/input'):\n",
    "    for filename in filenames:\n",
    "        print(os.path.join(dirname, filename))\n",
    "\n",
    "# You can write up to 20GB to the current directory (/kaggle/working/) that gets preserved as output when you create a version using \"Save & Run All\" \n",
    "# You can also write temporary files to /kaggle/temp/, but they won't be saved outside of the current session"
   ]
  },
  {
   "cell_type": "code",
   "execution_count": 2,
   "id": "635504d5",
   "metadata": {
    "execution": {
     "iopub.execute_input": "2022-09-16T18:37:04.673521Z",
     "iopub.status.busy": "2022-09-16T18:37:04.672645Z",
     "iopub.status.idle": "2022-09-16T18:37:04.697180Z",
     "shell.execute_reply": "2022-09-16T18:37:04.696195Z"
    },
    "papermill": {
     "duration": 0.035955,
     "end_time": "2022-09-16T18:37:04.699793",
     "exception": false,
     "start_time": "2022-09-16T18:37:04.663838",
     "status": "completed"
    },
    "tags": []
   },
   "outputs": [],
   "source": [
    "df = pd.read_csv('../input/red-wine-quality-cortez-et-al-2009/winequality-red.csv')"
   ]
  },
  {
   "cell_type": "code",
   "execution_count": 3,
   "id": "e92d8d02",
   "metadata": {
    "execution": {
     "iopub.execute_input": "2022-09-16T18:37:04.716437Z",
     "iopub.status.busy": "2022-09-16T18:37:04.715641Z",
     "iopub.status.idle": "2022-09-16T18:37:04.725226Z",
     "shell.execute_reply": "2022-09-16T18:37:04.723742Z"
    },
    "papermill": {
     "duration": 0.020994,
     "end_time": "2022-09-16T18:37:04.727719",
     "exception": false,
     "start_time": "2022-09-16T18:37:04.706725",
     "status": "completed"
    },
    "tags": []
   },
   "outputs": [
    {
     "data": {
      "text/plain": [
       "(1599, 12)"
      ]
     },
     "execution_count": 3,
     "metadata": {},
     "output_type": "execute_result"
    }
   ],
   "source": [
    "df.shape"
   ]
  },
  {
   "cell_type": "code",
   "execution_count": 4,
   "id": "b969d380",
   "metadata": {
    "execution": {
     "iopub.execute_input": "2022-09-16T18:37:04.744202Z",
     "iopub.status.busy": "2022-09-16T18:37:04.743453Z",
     "iopub.status.idle": "2022-09-16T18:37:04.758735Z",
     "shell.execute_reply": "2022-09-16T18:37:04.757412Z"
    },
    "papermill": {
     "duration": 0.026866,
     "end_time": "2022-09-16T18:37:04.761509",
     "exception": false,
     "start_time": "2022-09-16T18:37:04.734643",
     "status": "completed"
    },
    "tags": []
   },
   "outputs": [
    {
     "data": {
      "text/plain": [
       "fixed acidity           0\n",
       "volatile acidity        0\n",
       "citric acid             0\n",
       "residual sugar          0\n",
       "chlorides               0\n",
       "free sulfur dioxide     0\n",
       "total sulfur dioxide    0\n",
       "density                 0\n",
       "pH                      0\n",
       "sulphates               0\n",
       "alcohol                 0\n",
       "quality                 0\n",
       "dtype: int64"
      ]
     },
     "execution_count": 4,
     "metadata": {},
     "output_type": "execute_result"
    }
   ],
   "source": [
    "df.isnull().sum()"
   ]
  },
  {
   "cell_type": "code",
   "execution_count": 5,
   "id": "48bee62f",
   "metadata": {
    "execution": {
     "iopub.execute_input": "2022-09-16T18:37:04.783289Z",
     "iopub.status.busy": "2022-09-16T18:37:04.781862Z",
     "iopub.status.idle": "2022-09-16T18:37:06.316881Z",
     "shell.execute_reply": "2022-09-16T18:37:06.315207Z"
    },
    "papermill": {
     "duration": 1.549701,
     "end_time": "2022-09-16T18:37:06.320334",
     "exception": false,
     "start_time": "2022-09-16T18:37:04.770633",
     "status": "completed"
    },
    "tags": []
   },
   "outputs": [],
   "source": [
    "from sklearn.neighbors import KNeighborsClassifier\n",
    "from sklearn.svm import SVC\n",
    "from sklearn.model_selection import train_test_split\n",
    "from sklearn import tree\n",
    "from sklearn.ensemble import RandomForestClassifier"
   ]
  },
  {
   "cell_type": "code",
   "execution_count": 6,
   "id": "3abb013a",
   "metadata": {
    "execution": {
     "iopub.execute_input": "2022-09-16T18:37:06.338565Z",
     "iopub.status.busy": "2022-09-16T18:37:06.338155Z",
     "iopub.status.idle": "2022-09-16T18:37:06.353052Z",
     "shell.execute_reply": "2022-09-16T18:37:06.351664Z"
    },
    "papermill": {
     "duration": 0.027573,
     "end_time": "2022-09-16T18:37:06.356210",
     "exception": false,
     "start_time": "2022-09-16T18:37:06.328637",
     "status": "completed"
    },
    "tags": []
   },
   "outputs": [],
   "source": [
    "x = df.drop(columns='quality')"
   ]
  },
  {
   "cell_type": "code",
   "execution_count": 7,
   "id": "06027b89",
   "metadata": {
    "execution": {
     "iopub.execute_input": "2022-09-16T18:37:06.372923Z",
     "iopub.status.busy": "2022-09-16T18:37:06.372518Z",
     "iopub.status.idle": "2022-09-16T18:37:06.380004Z",
     "shell.execute_reply": "2022-09-16T18:37:06.378695Z"
    },
    "papermill": {
     "duration": 0.019338,
     "end_time": "2022-09-16T18:37:06.382839",
     "exception": false,
     "start_time": "2022-09-16T18:37:06.363501",
     "status": "completed"
    },
    "tags": []
   },
   "outputs": [],
   "source": [
    "y = df.quality"
   ]
  },
  {
   "cell_type": "code",
   "execution_count": 8,
   "id": "e4f0ea87",
   "metadata": {
    "execution": {
     "iopub.execute_input": "2022-09-16T18:37:06.398789Z",
     "iopub.status.busy": "2022-09-16T18:37:06.398408Z",
     "iopub.status.idle": "2022-09-16T18:37:06.407425Z",
     "shell.execute_reply": "2022-09-16T18:37:06.406175Z"
    },
    "papermill": {
     "duration": 0.020536,
     "end_time": "2022-09-16T18:37:06.410566",
     "exception": false,
     "start_time": "2022-09-16T18:37:06.390030",
     "status": "completed"
    },
    "tags": []
   },
   "outputs": [],
   "source": [
    "train, val_train, test, val_test = train_test_split(x, y, test_size=.50, random_state=30)"
   ]
  },
  {
   "cell_type": "code",
   "execution_count": 9,
   "id": "df6071a2",
   "metadata": {
    "execution": {
     "iopub.execute_input": "2022-09-16T18:37:06.430417Z",
     "iopub.status.busy": "2022-09-16T18:37:06.429426Z",
     "iopub.status.idle": "2022-09-16T18:37:06.437987Z",
     "shell.execute_reply": "2022-09-16T18:37:06.436755Z"
    },
    "papermill": {
     "duration": 0.022929,
     "end_time": "2022-09-16T18:37:06.441261",
     "exception": false,
     "start_time": "2022-09-16T18:37:06.418332",
     "status": "completed"
    },
    "tags": []
   },
   "outputs": [],
   "source": [
    "x_train, x_test, y_train, y_test = train_test_split(train, test, random_state=30, test_size=.15)"
   ]
  },
  {
   "cell_type": "code",
   "execution_count": 10,
   "id": "e35263ec",
   "metadata": {
    "execution": {
     "iopub.execute_input": "2022-09-16T18:37:06.459534Z",
     "iopub.status.busy": "2022-09-16T18:37:06.458991Z",
     "iopub.status.idle": "2022-09-16T18:37:06.475573Z",
     "shell.execute_reply": "2022-09-16T18:37:06.474126Z"
    },
    "papermill": {
     "duration": 0.029168,
     "end_time": "2022-09-16T18:37:06.478455",
     "exception": false,
     "start_time": "2022-09-16T18:37:06.449287",
     "status": "completed"
    },
    "tags": []
   },
   "outputs": [
    {
     "data": {
      "text/plain": [
       "KNeighborsClassifier()"
      ]
     },
     "execution_count": 10,
     "metadata": {},
     "output_type": "execute_result"
    }
   ],
   "source": [
    "knn = KNeighborsClassifier()\n",
    "knn.fit(x_train, y_train)"
   ]
  },
  {
   "cell_type": "code",
   "execution_count": 11,
   "id": "170d3a3c",
   "metadata": {
    "execution": {
     "iopub.execute_input": "2022-09-16T18:37:06.497013Z",
     "iopub.status.busy": "2022-09-16T18:37:06.496575Z",
     "iopub.status.idle": "2022-09-16T18:37:06.513352Z",
     "shell.execute_reply": "2022-09-16T18:37:06.512087Z"
    },
    "papermill": {
     "duration": 0.029478,
     "end_time": "2022-09-16T18:37:06.516218",
     "exception": false,
     "start_time": "2022-09-16T18:37:06.486740",
     "status": "completed"
    },
    "tags": []
   },
   "outputs": [
    {
     "data": {
      "text/plain": [
       "0.5833333333333334"
      ]
     },
     "execution_count": 11,
     "metadata": {},
     "output_type": "execute_result"
    }
   ],
   "source": [
    "knn.score(x_test, y_test)"
   ]
  },
  {
   "cell_type": "code",
   "execution_count": 12,
   "id": "a6e0eba7",
   "metadata": {
    "execution": {
     "iopub.execute_input": "2022-09-16T18:37:06.533590Z",
     "iopub.status.busy": "2022-09-16T18:37:06.533166Z",
     "iopub.status.idle": "2022-09-16T18:37:06.583661Z",
     "shell.execute_reply": "2022-09-16T18:37:06.582307Z"
    },
    "papermill": {
     "duration": 0.062364,
     "end_time": "2022-09-16T18:37:06.586232",
     "exception": false,
     "start_time": "2022-09-16T18:37:06.523868",
     "status": "completed"
    },
    "tags": []
   },
   "outputs": [
    {
     "data": {
      "text/plain": [
       "SVC()"
      ]
     },
     "execution_count": 12,
     "metadata": {},
     "output_type": "execute_result"
    }
   ],
   "source": [
    "svc = SVC()\n",
    "svc.fit(x_train, y_train)"
   ]
  },
  {
   "cell_type": "code",
   "execution_count": 13,
   "id": "e4e0129f",
   "metadata": {
    "execution": {
     "iopub.execute_input": "2022-09-16T18:37:06.604720Z",
     "iopub.status.busy": "2022-09-16T18:37:06.603240Z",
     "iopub.status.idle": "2022-09-16T18:37:06.620978Z",
     "shell.execute_reply": "2022-09-16T18:37:06.619237Z"
    },
    "papermill": {
     "duration": 0.0303,
     "end_time": "2022-09-16T18:37:06.624145",
     "exception": false,
     "start_time": "2022-09-16T18:37:06.593845",
     "status": "completed"
    },
    "tags": []
   },
   "outputs": [
    {
     "data": {
      "text/plain": [
       "0.5083333333333333"
      ]
     },
     "execution_count": 13,
     "metadata": {},
     "output_type": "execute_result"
    }
   ],
   "source": [
    "svc.score(x_test, y_test)"
   ]
  },
  {
   "cell_type": "code",
   "execution_count": 14,
   "id": "86e5c453",
   "metadata": {
    "execution": {
     "iopub.execute_input": "2022-09-16T18:37:06.644666Z",
     "iopub.status.busy": "2022-09-16T18:37:06.643622Z",
     "iopub.status.idle": "2022-09-16T18:37:06.717860Z",
     "shell.execute_reply": "2022-09-16T18:37:06.716271Z"
    },
    "papermill": {
     "duration": 0.087638,
     "end_time": "2022-09-16T18:37:06.720956",
     "exception": false,
     "start_time": "2022-09-16T18:37:06.633318",
     "status": "completed"
    },
    "tags": []
   },
   "outputs": [],
   "source": [
    "prediction_knn = knn.predict(val_train)\n",
    "prediction_svc = svc.predict(val_train)"
   ]
  },
  {
   "cell_type": "code",
   "execution_count": 15,
   "id": "77e22387",
   "metadata": {
    "execution": {
     "iopub.execute_input": "2022-09-16T18:37:06.739368Z",
     "iopub.status.busy": "2022-09-16T18:37:06.738823Z",
     "iopub.status.idle": "2022-09-16T18:37:06.749628Z",
     "shell.execute_reply": "2022-09-16T18:37:06.748695Z"
    },
    "papermill": {
     "duration": 0.023053,
     "end_time": "2022-09-16T18:37:06.751819",
     "exception": false,
     "start_time": "2022-09-16T18:37:06.728766",
     "status": "completed"
    },
    "tags": []
   },
   "outputs": [
    {
     "data": {
      "text/plain": [
       "array([7, 5, 6, 5, 5, 5, 5, 5, 5, 5, 5, 5, 6, 5, 5, 6, 5, 5, 6, 5, 5, 6,\n",
       "       5, 5, 6, 6, 6, 5, 5, 6, 5, 6, 6, 5, 6, 6, 6, 6, 5, 7, 6, 6, 5, 5,\n",
       "       6, 7, 6, 6, 5, 6, 5, 5, 5, 6, 5, 5, 6, 6, 5, 5, 6, 5, 5, 6, 5, 5,\n",
       "       6, 6, 5, 4, 5, 5, 5, 6, 6, 6, 7, 5, 5, 6, 6, 6, 7, 6, 5, 5, 5, 6,\n",
       "       5, 5, 5, 7, 6, 6, 6, 7, 5, 6, 5, 5, 5, 6, 5, 7, 6, 5, 6, 5, 7, 5,\n",
       "       5, 5, 5, 5, 6, 6, 6, 6, 6, 5, 6, 6, 7, 6, 5, 5, 6, 5, 5, 6, 6, 5,\n",
       "       5, 6, 7, 5, 6, 5, 6, 6, 5, 5, 6, 5, 5, 5, 5, 5, 6, 7, 5, 5, 5, 5,\n",
       "       6, 5, 6, 5, 5, 5, 5, 6, 6, 5, 6, 5, 6, 6, 6, 6, 6, 5, 6, 5, 6, 5,\n",
       "       6, 5, 5, 6, 5, 5, 5, 5, 5, 5, 5, 5, 5, 6, 5, 5, 6, 5, 6, 5, 6, 5,\n",
       "       5, 6, 6, 5, 6, 5, 5, 6, 6, 6, 6, 5, 6, 5, 5, 6, 5, 4, 5, 6, 7, 5,\n",
       "       6, 6, 5, 6, 6, 6, 6, 6, 6, 5, 5, 5, 6, 5, 5, 6, 5, 5, 5, 6, 5, 6,\n",
       "       5, 6, 5, 6, 6, 5, 6, 5, 5, 6, 5, 6, 6, 5, 6, 6, 5, 6, 6, 5, 6, 6,\n",
       "       5, 5, 6, 6, 6, 6, 5, 6, 6, 5, 5, 6, 5, 6, 5, 6, 5, 6, 6, 5, 6, 6,\n",
       "       7, 5, 6, 7, 5, 4, 6, 7, 5, 5, 6, 5, 5, 6, 5, 5, 5, 5, 6, 5, 5, 6,\n",
       "       5, 6, 6, 5, 5, 6, 6, 6, 5, 6, 5, 6, 5, 6, 6, 5, 5, 5, 5, 5, 6, 5,\n",
       "       6, 5, 6, 5, 5, 6, 6, 4, 5, 5, 5, 5, 5, 5, 7, 6, 6, 6, 5, 5, 6, 6,\n",
       "       6, 4, 5, 6, 5, 5, 5, 6, 5, 6, 6, 5, 5, 5, 6, 6, 6, 5, 6, 5, 5, 6,\n",
       "       5, 6, 5, 5, 5, 5, 5, 3, 6, 5, 6, 6, 5, 5, 5, 6, 7, 6, 5, 6, 7, 5,\n",
       "       5, 6, 6, 6, 5, 5, 5, 5, 5, 6, 6, 5, 5, 5, 5, 7, 6, 5, 6, 5, 6, 6,\n",
       "       5, 7, 5, 5, 6, 5, 5, 5, 5, 5, 5, 5, 5, 5, 5, 6, 6, 5, 5, 7, 6, 5,\n",
       "       5, 6, 6, 5, 5, 5, 6, 5, 5, 6, 6, 6, 6, 5, 6, 5, 6, 6, 6, 7, 5, 5,\n",
       "       5, 6, 6, 5, 5, 6, 6, 6, 6, 6, 6, 6, 5, 6, 5, 7, 5, 5, 5, 6, 5, 5,\n",
       "       5, 5, 5, 5, 5, 5, 5, 5, 5, 4, 6, 5, 5, 5, 5, 5, 6, 6, 6, 5, 6, 7,\n",
       "       5, 5, 5, 6, 6, 6, 5, 5, 5, 5, 6, 6, 5, 6, 6, 5, 5, 5, 6, 7, 5, 5,\n",
       "       6, 5, 5, 5, 6, 6, 5, 6, 5, 5, 6, 5, 6, 7, 5, 6, 5, 6, 5, 6, 5, 5,\n",
       "       5, 6, 5, 5, 5, 5, 5, 5, 5, 6, 5, 6, 6, 5, 5, 5, 5, 5, 6, 6, 5, 6,\n",
       "       5, 6, 7, 6, 6, 5, 5, 5, 5, 5, 6, 5, 5, 6, 5, 5, 6, 6, 6, 5, 5, 6,\n",
       "       5, 5, 5, 5, 6, 5, 6, 6, 6, 6, 7, 6, 5, 5, 5, 5, 6, 5, 5, 5, 6, 5,\n",
       "       7, 6, 6, 5, 6, 5, 6, 6, 6, 7, 6, 6, 6, 5, 5, 5, 5, 6, 6, 5, 5, 6,\n",
       "       6, 5, 6, 6, 6, 6, 6, 5, 4, 5, 5, 6, 6, 5, 6, 6, 5, 7, 5, 5, 6, 6,\n",
       "       7, 5, 5, 7, 6, 5, 6, 6, 5, 6, 6, 5, 5, 5, 5, 5, 5, 5, 5, 5, 5, 5,\n",
       "       5, 5, 5, 5, 6, 5, 6, 5, 5, 5, 3, 6, 5, 6, 5, 5, 5, 6, 5, 5, 6, 5,\n",
       "       5, 6, 6, 5, 5, 6, 6, 5, 6, 5, 6, 6, 6, 6, 5, 5, 6, 6, 5, 6, 7, 5,\n",
       "       5, 5, 5, 5, 5, 5, 5, 6, 5, 5, 6, 5, 5, 5, 6, 6, 6, 5, 5, 5, 6, 5,\n",
       "       5, 5, 6, 5, 5, 5, 6, 6, 6, 5, 5, 6, 6, 6, 7, 5, 6, 5, 6, 6, 5, 5,\n",
       "       6, 6, 5, 5, 5, 5, 6, 6, 6, 6, 5, 5, 7, 5, 5, 6, 5, 6, 6, 6, 5, 5,\n",
       "       5, 6, 6, 5, 5, 6, 6, 5])"
      ]
     },
     "execution_count": 15,
     "metadata": {},
     "output_type": "execute_result"
    }
   ],
   "source": [
    "prediction_knn"
   ]
  },
  {
   "cell_type": "code",
   "execution_count": 16,
   "id": "eb3a91e6",
   "metadata": {
    "execution": {
     "iopub.execute_input": "2022-09-16T18:37:06.770728Z",
     "iopub.status.busy": "2022-09-16T18:37:06.769412Z",
     "iopub.status.idle": "2022-09-16T18:37:06.779743Z",
     "shell.execute_reply": "2022-09-16T18:37:06.777992Z"
    },
    "papermill": {
     "duration": 0.022732,
     "end_time": "2022-09-16T18:37:06.782828",
     "exception": false,
     "start_time": "2022-09-16T18:37:06.760096",
     "status": "completed"
    },
    "tags": []
   },
   "outputs": [
    {
     "data": {
      "text/plain": [
       "array([6, 6, 6, 6, 6, 5, 6, 5, 5, 5, 6, 5, 6, 6, 5, 6, 6, 5, 6, 5, 6, 6,\n",
       "       6, 5, 6, 6, 6, 6, 6, 6, 5, 6, 6, 6, 6, 6, 6, 6, 6, 6, 5, 6, 6, 6,\n",
       "       6, 6, 6, 6, 6, 6, 6, 6, 6, 6, 6, 5, 5, 6, 5, 5, 6, 5, 6, 6, 5, 5,\n",
       "       6, 6, 5, 6, 5, 5, 6, 6, 6, 6, 6, 5, 6, 6, 6, 6, 6, 6, 5, 6, 5, 6,\n",
       "       5, 6, 5, 6, 5, 6, 6, 6, 5, 6, 5, 6, 5, 6, 6, 6, 6, 6, 6, 5, 6, 5,\n",
       "       5, 5, 5, 6, 6, 6, 6, 6, 6, 6, 6, 6, 6, 6, 6, 5, 6, 6, 6, 5, 5, 5,\n",
       "       6, 6, 6, 6, 6, 6, 6, 6, 6, 5, 6, 5, 6, 5, 6, 6, 6, 6, 5, 5, 6, 6,\n",
       "       6, 6, 6, 6, 6, 6, 5, 6, 5, 5, 6, 5, 6, 6, 6, 6, 6, 5, 6, 6, 6, 6,\n",
       "       5, 5, 6, 6, 5, 6, 6, 5, 5, 6, 6, 6, 5, 6, 5, 6, 6, 5, 6, 6, 6, 5,\n",
       "       6, 6, 6, 6, 6, 6, 6, 6, 6, 6, 6, 6, 6, 6, 6, 6, 5, 5, 5, 6, 6, 5,\n",
       "       6, 6, 5, 6, 6, 6, 6, 5, 6, 6, 6, 6, 6, 6, 6, 6, 5, 6, 6, 6, 5, 6,\n",
       "       6, 6, 5, 6, 6, 6, 6, 6, 6, 6, 6, 6, 6, 6, 5, 6, 5, 6, 6, 5, 6, 6,\n",
       "       6, 5, 6, 5, 6, 6, 5, 6, 6, 6, 6, 6, 6, 6, 6, 6, 6, 5, 6, 6, 6, 6,\n",
       "       6, 6, 5, 6, 5, 6, 6, 6, 6, 6, 5, 5, 5, 6, 5, 6, 6, 5, 6, 5, 5, 5,\n",
       "       5, 6, 6, 5, 6, 6, 6, 6, 5, 6, 6, 5, 5, 5, 6, 6, 6, 5, 6, 6, 6, 5,\n",
       "       6, 6, 6, 5, 5, 6, 6, 5, 6, 5, 5, 5, 5, 5, 6, 6, 6, 6, 5, 5, 6, 6,\n",
       "       6, 6, 6, 6, 5, 5, 6, 6, 5, 6, 6, 6, 5, 6, 6, 5, 6, 6, 6, 5, 6, 6,\n",
       "       5, 6, 6, 5, 6, 6, 5, 6, 5, 6, 5, 6, 6, 6, 6, 6, 6, 6, 5, 6, 6, 5,\n",
       "       6, 6, 6, 6, 5, 6, 6, 5, 6, 6, 6, 6, 6, 5, 6, 6, 6, 5, 5, 5, 6, 6,\n",
       "       6, 6, 5, 6, 6, 6, 5, 6, 6, 6, 6, 5, 5, 5, 6, 5, 6, 6, 5, 6, 6, 5,\n",
       "       6, 6, 6, 5, 6, 6, 6, 6, 6, 6, 5, 5, 6, 5, 6, 5, 6, 6, 6, 6, 5, 5,\n",
       "       6, 6, 5, 5, 6, 6, 6, 6, 6, 6, 6, 6, 5, 5, 6, 6, 5, 5, 5, 6, 5, 6,\n",
       "       6, 6, 6, 6, 6, 5, 5, 5, 5, 6, 6, 6, 6, 5, 5, 6, 6, 6, 6, 6, 6, 6,\n",
       "       5, 6, 6, 6, 6, 6, 5, 5, 5, 6, 6, 6, 6, 6, 5, 6, 6, 5, 6, 6, 6, 6,\n",
       "       6, 5, 5, 6, 5, 6, 6, 6, 6, 5, 5, 6, 6, 6, 5, 6, 5, 6, 6, 5, 6, 5,\n",
       "       5, 6, 5, 5, 6, 6, 6, 6, 6, 6, 5, 6, 6, 6, 5, 6, 6, 6, 6, 6, 6, 6,\n",
       "       5, 5, 6, 6, 6, 6, 6, 6, 5, 5, 6, 6, 5, 6, 6, 6, 5, 6, 6, 6, 6, 6,\n",
       "       6, 5, 5, 6, 6, 6, 6, 6, 5, 6, 6, 6, 6, 6, 6, 6, 6, 5, 5, 6, 6, 6,\n",
       "       6, 6, 6, 5, 6, 6, 6, 6, 6, 6, 6, 6, 6, 6, 5, 6, 5, 6, 6, 6, 6, 6,\n",
       "       6, 6, 6, 6, 6, 6, 5, 6, 5, 6, 6, 6, 6, 6, 6, 6, 5, 6, 6, 6, 6, 6,\n",
       "       6, 5, 6, 6, 6, 5, 5, 6, 6, 6, 6, 5, 6, 5, 6, 5, 5, 5, 5, 6, 5, 6,\n",
       "       6, 6, 5, 5, 6, 6, 6, 6, 5, 6, 6, 6, 5, 6, 6, 5, 6, 6, 6, 6, 6, 5,\n",
       "       5, 6, 6, 5, 6, 6, 5, 6, 6, 6, 6, 6, 5, 6, 5, 6, 6, 6, 6, 6, 6, 6,\n",
       "       5, 5, 6, 6, 6, 6, 5, 6, 6, 6, 5, 6, 6, 6, 6, 5, 5, 6, 5, 6, 6, 6,\n",
       "       6, 5, 6, 5, 5, 6, 6, 6, 6, 6, 6, 6, 6, 6, 6, 6, 6, 6, 6, 6, 5, 5,\n",
       "       6, 6, 6, 6, 6, 6, 6, 6, 6, 6, 5, 6, 6, 5, 6, 6, 6, 6, 5, 6, 6, 6,\n",
       "       6, 6, 5, 6, 6, 6, 6, 5])"
      ]
     },
     "execution_count": 16,
     "metadata": {},
     "output_type": "execute_result"
    }
   ],
   "source": [
    "prediction_svc"
   ]
  },
  {
   "cell_type": "code",
   "execution_count": 17,
   "id": "6f4bacff",
   "metadata": {
    "execution": {
     "iopub.execute_input": "2022-09-16T18:37:06.802526Z",
     "iopub.status.busy": "2022-09-16T18:37:06.801919Z",
     "iopub.status.idle": "2022-09-16T18:37:06.807985Z",
     "shell.execute_reply": "2022-09-16T18:37:06.806478Z"
    },
    "papermill": {
     "duration": 0.019018,
     "end_time": "2022-09-16T18:37:06.810648",
     "exception": false,
     "start_time": "2022-09-16T18:37:06.791630",
     "status": "completed"
    },
    "tags": []
   },
   "outputs": [],
   "source": [
    "input3 = np.column_stack((prediction_knn, prediction_svc))"
   ]
  },
  {
   "cell_type": "code",
   "execution_count": 18,
   "id": "8be32c37",
   "metadata": {
    "execution": {
     "iopub.execute_input": "2022-09-16T18:37:06.828503Z",
     "iopub.status.busy": "2022-09-16T18:37:06.828055Z",
     "iopub.status.idle": "2022-09-16T18:37:06.834231Z",
     "shell.execute_reply": "2022-09-16T18:37:06.832653Z"
    },
    "papermill": {
     "duration": 0.01796,
     "end_time": "2022-09-16T18:37:06.836684",
     "exception": false,
     "start_time": "2022-09-16T18:37:06.818724",
     "status": "completed"
    },
    "tags": []
   },
   "outputs": [],
   "source": [
    "output = val_test"
   ]
  },
  {
   "cell_type": "code",
   "execution_count": 19,
   "id": "f51f0b14",
   "metadata": {
    "execution": {
     "iopub.execute_input": "2022-09-16T18:37:06.855546Z",
     "iopub.status.busy": "2022-09-16T18:37:06.854950Z",
     "iopub.status.idle": "2022-09-16T18:37:06.866198Z",
     "shell.execute_reply": "2022-09-16T18:37:06.864887Z"
    },
    "papermill": {
     "duration": 0.023686,
     "end_time": "2022-09-16T18:37:06.868788",
     "exception": false,
     "start_time": "2022-09-16T18:37:06.845102",
     "status": "completed"
    },
    "tags": []
   },
   "outputs": [
    {
     "data": {
      "text/plain": [
       "1147    7\n",
       "659     4\n",
       "871     5\n",
       "1333    5\n",
       "1411    6\n",
       "       ..\n",
       "1073    6\n",
       "200     7\n",
       "942     7\n",
       "1106    6\n",
       "1329    6\n",
       "Name: quality, Length: 800, dtype: int64"
      ]
     },
     "execution_count": 19,
     "metadata": {},
     "output_type": "execute_result"
    }
   ],
   "source": [
    "output"
   ]
  },
  {
   "cell_type": "code",
   "execution_count": 20,
   "id": "a21126e4",
   "metadata": {
    "execution": {
     "iopub.execute_input": "2022-09-16T18:37:06.887953Z",
     "iopub.status.busy": "2022-09-16T18:37:06.887456Z",
     "iopub.status.idle": "2022-09-16T18:37:06.907387Z",
     "shell.execute_reply": "2022-09-16T18:37:06.905498Z"
    },
    "papermill": {
     "duration": 0.033449,
     "end_time": "2022-09-16T18:37:06.910222",
     "exception": false,
     "start_time": "2022-09-16T18:37:06.876773",
     "status": "completed"
    },
    "tags": []
   },
   "outputs": [
    {
     "data": {
      "text/html": [
       "<div>\n",
       "<style scoped>\n",
       "    .dataframe tbody tr th:only-of-type {\n",
       "        vertical-align: middle;\n",
       "    }\n",
       "\n",
       "    .dataframe tbody tr th {\n",
       "        vertical-align: top;\n",
       "    }\n",
       "\n",
       "    .dataframe thead th {\n",
       "        text-align: right;\n",
       "    }\n",
       "</style>\n",
       "<table border=\"1\" class=\"dataframe\">\n",
       "  <thead>\n",
       "    <tr style=\"text-align: right;\">\n",
       "      <th></th>\n",
       "      <th>0</th>\n",
       "      <th>1</th>\n",
       "    </tr>\n",
       "  </thead>\n",
       "  <tbody>\n",
       "    <tr>\n",
       "      <th>0</th>\n",
       "      <td>7</td>\n",
       "      <td>6</td>\n",
       "    </tr>\n",
       "    <tr>\n",
       "      <th>1</th>\n",
       "      <td>5</td>\n",
       "      <td>6</td>\n",
       "    </tr>\n",
       "    <tr>\n",
       "      <th>2</th>\n",
       "      <td>6</td>\n",
       "      <td>6</td>\n",
       "    </tr>\n",
       "    <tr>\n",
       "      <th>3</th>\n",
       "      <td>5</td>\n",
       "      <td>6</td>\n",
       "    </tr>\n",
       "    <tr>\n",
       "      <th>4</th>\n",
       "      <td>5</td>\n",
       "      <td>6</td>\n",
       "    </tr>\n",
       "    <tr>\n",
       "      <th>...</th>\n",
       "      <td>...</td>\n",
       "      <td>...</td>\n",
       "    </tr>\n",
       "    <tr>\n",
       "      <th>795</th>\n",
       "      <td>5</td>\n",
       "      <td>6</td>\n",
       "    </tr>\n",
       "    <tr>\n",
       "      <th>796</th>\n",
       "      <td>5</td>\n",
       "      <td>6</td>\n",
       "    </tr>\n",
       "    <tr>\n",
       "      <th>797</th>\n",
       "      <td>6</td>\n",
       "      <td>6</td>\n",
       "    </tr>\n",
       "    <tr>\n",
       "      <th>798</th>\n",
       "      <td>6</td>\n",
       "      <td>6</td>\n",
       "    </tr>\n",
       "    <tr>\n",
       "      <th>799</th>\n",
       "      <td>5</td>\n",
       "      <td>5</td>\n",
       "    </tr>\n",
       "  </tbody>\n",
       "</table>\n",
       "<p>800 rows × 2 columns</p>\n",
       "</div>"
      ],
      "text/plain": [
       "     0  1\n",
       "0    7  6\n",
       "1    5  6\n",
       "2    6  6\n",
       "3    5  6\n",
       "4    5  6\n",
       "..  .. ..\n",
       "795  5  6\n",
       "796  5  6\n",
       "797  6  6\n",
       "798  6  6\n",
       "799  5  5\n",
       "\n",
       "[800 rows x 2 columns]"
      ]
     },
     "execution_count": 20,
     "metadata": {},
     "output_type": "execute_result"
    }
   ],
   "source": [
    "pd.DataFrame(input3)"
   ]
  },
  {
   "cell_type": "code",
   "execution_count": 21,
   "id": "30fbfd29",
   "metadata": {
    "execution": {
     "iopub.execute_input": "2022-09-16T18:37:06.931041Z",
     "iopub.status.busy": "2022-09-16T18:37:06.930474Z",
     "iopub.status.idle": "2022-09-16T18:37:06.936830Z",
     "shell.execute_reply": "2022-09-16T18:37:06.935415Z"
    },
    "papermill": {
     "duration": 0.020488,
     "end_time": "2022-09-16T18:37:06.940029",
     "exception": false,
     "start_time": "2022-09-16T18:37:06.919541",
     "status": "completed"
    },
    "tags": []
   },
   "outputs": [],
   "source": [
    "rf = RandomForestClassifier()"
   ]
  },
  {
   "cell_type": "code",
   "execution_count": 22,
   "id": "f1986de9",
   "metadata": {
    "execution": {
     "iopub.execute_input": "2022-09-16T18:37:06.958953Z",
     "iopub.status.busy": "2022-09-16T18:37:06.958575Z",
     "iopub.status.idle": "2022-09-16T18:37:07.142502Z",
     "shell.execute_reply": "2022-09-16T18:37:07.140909Z"
    },
    "papermill": {
     "duration": 0.19642,
     "end_time": "2022-09-16T18:37:07.145307",
     "exception": false,
     "start_time": "2022-09-16T18:37:06.948887",
     "status": "completed"
    },
    "tags": []
   },
   "outputs": [
    {
     "data": {
      "text/plain": [
       "RandomForestClassifier()"
      ]
     },
     "execution_count": 22,
     "metadata": {},
     "output_type": "execute_result"
    }
   ],
   "source": [
    "rf.fit(input3, output)"
   ]
  },
  {
   "cell_type": "code",
   "execution_count": 23,
   "id": "e3651a1e",
   "metadata": {
    "execution": {
     "iopub.execute_input": "2022-09-16T18:37:07.165277Z",
     "iopub.status.busy": "2022-09-16T18:37:07.164773Z",
     "iopub.status.idle": "2022-09-16T18:37:07.191594Z",
     "shell.execute_reply": "2022-09-16T18:37:07.190264Z"
    },
    "papermill": {
     "duration": 0.040755,
     "end_time": "2022-09-16T18:37:07.194706",
     "exception": false,
     "start_time": "2022-09-16T18:37:07.153951",
     "status": "completed"
    },
    "tags": []
   },
   "outputs": [],
   "source": [
    "knn_output = knn.predict(x_test)\n",
    "svc_output = svc.predict(x_test)"
   ]
  },
  {
   "cell_type": "code",
   "execution_count": 24,
   "id": "a40e7b04",
   "metadata": {
    "execution": {
     "iopub.execute_input": "2022-09-16T18:37:07.213675Z",
     "iopub.status.busy": "2022-09-16T18:37:07.213031Z",
     "iopub.status.idle": "2022-09-16T18:37:07.219764Z",
     "shell.execute_reply": "2022-09-16T18:37:07.218246Z"
    },
    "papermill": {
     "duration": 0.019479,
     "end_time": "2022-09-16T18:37:07.222514",
     "exception": false,
     "start_time": "2022-09-16T18:37:07.203035",
     "status": "completed"
    },
    "tags": []
   },
   "outputs": [],
   "source": [
    "output_stack1 = np.column_stack((knn_output, svc_output))"
   ]
  },
  {
   "cell_type": "code",
   "execution_count": 25,
   "id": "327acd75",
   "metadata": {
    "execution": {
     "iopub.execute_input": "2022-09-16T18:37:07.241967Z",
     "iopub.status.busy": "2022-09-16T18:37:07.241499Z",
     "iopub.status.idle": "2022-09-16T18:37:07.267819Z",
     "shell.execute_reply": "2022-09-16T18:37:07.266211Z"
    },
    "papermill": {
     "duration": 0.039366,
     "end_time": "2022-09-16T18:37:07.270584",
     "exception": false,
     "start_time": "2022-09-16T18:37:07.231218",
     "status": "completed"
    },
    "tags": []
   },
   "outputs": [
    {
     "data": {
      "text/plain": [
       "array([5, 6, 5, 5, 6, 6, 5, 6, 6, 5, 6, 5, 5, 5, 6, 6, 6, 5, 5, 6, 5, 6,\n",
       "       6, 5, 5, 5, 6, 6, 5, 5, 6, 5, 6, 5, 6, 6, 5, 5, 6, 5, 5, 6, 5, 5,\n",
       "       6, 6, 5, 5, 6, 5, 6, 5, 6, 5, 6, 6, 5, 6, 6, 5, 5, 5, 5, 6, 6, 5,\n",
       "       5, 5, 6, 5, 5, 5, 5, 6, 6, 6, 6, 5, 5, 5, 6, 6, 5, 6, 5, 6, 6, 5,\n",
       "       6, 6, 5, 5, 6, 5, 5, 6, 6, 5, 5, 5, 5, 6, 6, 5, 6, 5, 5, 6, 5, 5,\n",
       "       5, 6, 6, 5, 5, 5, 5, 6, 5, 5])"
      ]
     },
     "execution_count": 25,
     "metadata": {},
     "output_type": "execute_result"
    }
   ],
   "source": [
    "rf.predict(output_stack1)"
   ]
  },
  {
   "cell_type": "code",
   "execution_count": 26,
   "id": "fce915ca",
   "metadata": {
    "execution": {
     "iopub.execute_input": "2022-09-16T18:37:07.290456Z",
     "iopub.status.busy": "2022-09-16T18:37:07.289601Z",
     "iopub.status.idle": "2022-09-16T18:37:07.313065Z",
     "shell.execute_reply": "2022-09-16T18:37:07.311765Z"
    },
    "papermill": {
     "duration": 0.036695,
     "end_time": "2022-09-16T18:37:07.315843",
     "exception": false,
     "start_time": "2022-09-16T18:37:07.279148",
     "status": "completed"
    },
    "tags": []
   },
   "outputs": [
    {
     "data": {
      "text/plain": [
       "0.5833333333333334"
      ]
     },
     "execution_count": 26,
     "metadata": {},
     "output_type": "execute_result"
    }
   ],
   "source": [
    "rf.score(output_stack1, y_test)"
   ]
  },
  {
   "cell_type": "code",
   "execution_count": null,
   "id": "29ba8f48",
   "metadata": {
    "papermill": {
     "duration": 0.009611,
     "end_time": "2022-09-16T18:37:07.334639",
     "exception": false,
     "start_time": "2022-09-16T18:37:07.325028",
     "status": "completed"
    },
    "tags": []
   },
   "outputs": [],
   "source": []
  }
 ],
 "metadata": {
  "kernelspec": {
   "display_name": "Python 3",
   "language": "python",
   "name": "python3"
  },
  "language_info": {
   "codemirror_mode": {
    "name": "ipython",
    "version": 3
   },
   "file_extension": ".py",
   "mimetype": "text/x-python",
   "name": "python",
   "nbconvert_exporter": "python",
   "pygments_lexer": "ipython3",
   "version": "3.7.12"
  },
  "papermill": {
   "default_parameters": {},
   "duration": 14.255308,
   "end_time": "2022-09-16T18:37:08.368439",
   "environment_variables": {},
   "exception": null,
   "input_path": "__notebook__.ipynb",
   "output_path": "__notebook__.ipynb",
   "parameters": {},
   "start_time": "2022-09-16T18:36:54.113131",
   "version": "2.3.4"
  }
 },
 "nbformat": 4,
 "nbformat_minor": 5
}
